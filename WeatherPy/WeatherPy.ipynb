{
 "cells": [
  {
   "cell_type": "markdown",
   "metadata": {},
   "source": [
    "# WeatherPy\n",
    "----\n",
    "\n",
    "#### Note\n",
    "* Instructions have been included for each segment. You do not have to follow them exactly, but they are included to help you think through the steps."
   ]
  },
  {
   "cell_type": "code",
   "execution_count": 83,
   "metadata": {
    "scrolled": true
   },
   "outputs": [],
   "source": [
    "#Dependencies\n",
    "import requests\n",
    "import json\n",
    "from api_keys import weather_api_key\n",
    "import numpy as np\n",
    "import pandas as pd\n",
    "from citipy import citipy\n",
    "import matplotlib.pyplot as plt\n",
    "import scipy.stats as st\n",
    "from scipy.stats import linregress\n",
    "\n",
    "url = \"http://api.openweathermap.org/data/2.5/weather?\"\n"
   ]
  },
  {
   "cell_type": "markdown",
   "metadata": {},
   "source": [
    "## Generate Cities List"
   ]
  },
  {
   "cell_type": "code",
   "execution_count": 84,
   "metadata": {},
   "outputs": [],
   "source": [
    "#Create variables for the random selcetion of latitudes and longitudes with limits\n",
    "lat_range = (-90, 90)\n",
    "lng_range = (-180, 180)\n",
    "\n",
    "# Create lists for holding coordinates and city names\n",
    "lat_lngs = []\n",
    "cities = []\n",
    "\n",
    "# Create a set of 1200 random latitude and longitude combinations\n",
    "##NB: Many of these combinations will return the same city, so more are generated to end with \n",
    "## the minimum required 500 cities\n",
    "\n",
    "lats = np.random.uniform(low=-90.000, high=90.000, size=1400)\n",
    "lngs = np.random.uniform(low=-180.000, high=180.000, size=1400)\n",
    "\n",
    "#Zip the lats and longs together to form coordinate pairs\n",
    "lats_lngs = zip(lats, lngs)\n",
    "\n",
    "#Loop through the list, using citipy to locate the closest city to each coordinate set\n",
    "for lat_lng in lats_lngs:\n",
    "    city = citipy.nearest_city(lat_lng[0], lat_lng[1]).city_name\n",
    "    \n",
    "    cities.append(city)\n",
    "\n"
   ]
  },
  {
   "cell_type": "code",
   "execution_count": 59,
   "metadata": {},
   "outputs": [
    {
     "data": {
      "text/html": [
       "<div>\n",
       "<style scoped>\n",
       "    .dataframe tbody tr th:only-of-type {\n",
       "        vertical-align: middle;\n",
       "    }\n",
       "\n",
       "    .dataframe tbody tr th {\n",
       "        vertical-align: top;\n",
       "    }\n",
       "\n",
       "    .dataframe thead th {\n",
       "        text-align: right;\n",
       "    }\n",
       "</style>\n",
       "<table border=\"1\" class=\"dataframe\">\n",
       "  <thead>\n",
       "    <tr style=\"text-align: right;\">\n",
       "      <th></th>\n",
       "      <th>City Name</th>\n",
       "      <th>Latitude</th>\n",
       "      <th>Longitude</th>\n",
       "      <th>Max Temp</th>\n",
       "      <th>Humidity</th>\n",
       "      <th>Cloudiness</th>\n",
       "      <th>Wind Speed</th>\n",
       "      <th>Country</th>\n",
       "      <th>City Date/Time</th>\n",
       "    </tr>\n",
       "  </thead>\n",
       "  <tbody>\n",
       "    <tr>\n",
       "      <th>0</th>\n",
       "      <td>komsomolskiy</td>\n",
       "      <td></td>\n",
       "      <td></td>\n",
       "      <td></td>\n",
       "      <td></td>\n",
       "      <td></td>\n",
       "      <td></td>\n",
       "      <td></td>\n",
       "      <td></td>\n",
       "    </tr>\n",
       "    <tr>\n",
       "      <th>1</th>\n",
       "      <td>lebu</td>\n",
       "      <td></td>\n",
       "      <td></td>\n",
       "      <td></td>\n",
       "      <td></td>\n",
       "      <td></td>\n",
       "      <td></td>\n",
       "      <td></td>\n",
       "      <td></td>\n",
       "    </tr>\n",
       "    <tr>\n",
       "      <th>2</th>\n",
       "      <td>eyl</td>\n",
       "      <td></td>\n",
       "      <td></td>\n",
       "      <td></td>\n",
       "      <td></td>\n",
       "      <td></td>\n",
       "      <td></td>\n",
       "      <td></td>\n",
       "      <td></td>\n",
       "    </tr>\n",
       "    <tr>\n",
       "      <th>3</th>\n",
       "      <td>oga</td>\n",
       "      <td></td>\n",
       "      <td></td>\n",
       "      <td></td>\n",
       "      <td></td>\n",
       "      <td></td>\n",
       "      <td></td>\n",
       "      <td></td>\n",
       "      <td></td>\n",
       "    </tr>\n",
       "    <tr>\n",
       "      <th>4</th>\n",
       "      <td>ushuaia</td>\n",
       "      <td></td>\n",
       "      <td></td>\n",
       "      <td></td>\n",
       "      <td></td>\n",
       "      <td></td>\n",
       "      <td></td>\n",
       "      <td></td>\n",
       "      <td></td>\n",
       "    </tr>\n",
       "    <tr>\n",
       "      <th>...</th>\n",
       "      <td>...</td>\n",
       "      <td>...</td>\n",
       "      <td>...</td>\n",
       "      <td>...</td>\n",
       "      <td>...</td>\n",
       "      <td>...</td>\n",
       "      <td>...</td>\n",
       "      <td>...</td>\n",
       "      <td>...</td>\n",
       "    </tr>\n",
       "    <tr>\n",
       "      <th>560</th>\n",
       "      <td>robertsport</td>\n",
       "      <td></td>\n",
       "      <td></td>\n",
       "      <td></td>\n",
       "      <td></td>\n",
       "      <td></td>\n",
       "      <td></td>\n",
       "      <td></td>\n",
       "      <td></td>\n",
       "    </tr>\n",
       "    <tr>\n",
       "      <th>561</th>\n",
       "      <td>novoagansk</td>\n",
       "      <td></td>\n",
       "      <td></td>\n",
       "      <td></td>\n",
       "      <td></td>\n",
       "      <td></td>\n",
       "      <td></td>\n",
       "      <td></td>\n",
       "      <td></td>\n",
       "    </tr>\n",
       "    <tr>\n",
       "      <th>562</th>\n",
       "      <td>mareeba</td>\n",
       "      <td></td>\n",
       "      <td></td>\n",
       "      <td></td>\n",
       "      <td></td>\n",
       "      <td></td>\n",
       "      <td></td>\n",
       "      <td></td>\n",
       "      <td></td>\n",
       "    </tr>\n",
       "    <tr>\n",
       "      <th>563</th>\n",
       "      <td>itarema</td>\n",
       "      <td></td>\n",
       "      <td></td>\n",
       "      <td></td>\n",
       "      <td></td>\n",
       "      <td></td>\n",
       "      <td></td>\n",
       "      <td></td>\n",
       "      <td></td>\n",
       "    </tr>\n",
       "    <tr>\n",
       "      <th>564</th>\n",
       "      <td>warqla</td>\n",
       "      <td></td>\n",
       "      <td></td>\n",
       "      <td></td>\n",
       "      <td></td>\n",
       "      <td></td>\n",
       "      <td></td>\n",
       "      <td></td>\n",
       "      <td></td>\n",
       "    </tr>\n",
       "  </tbody>\n",
       "</table>\n",
       "<p>565 rows × 9 columns</p>\n",
       "</div>"
      ],
      "text/plain": [
       "        City Name Latitude Longitude Max Temp Humidity Cloudiness Wind Speed  \\\n",
       "0    komsomolskiy                                                              \n",
       "1            lebu                                                              \n",
       "2             eyl                                                              \n",
       "3             oga                                                              \n",
       "4         ushuaia                                                              \n",
       "..            ...      ...       ...      ...      ...        ...        ...   \n",
       "560   robertsport                                                              \n",
       "561    novoagansk                                                              \n",
       "562       mareeba                                                              \n",
       "563       itarema                                                              \n",
       "564        warqla                                                              \n",
       "\n",
       "    Country City Date/Time  \n",
       "0                           \n",
       "1                           \n",
       "2                           \n",
       "3                           \n",
       "4                           \n",
       "..      ...            ...  \n",
       "560                         \n",
       "561                         \n",
       "562                         \n",
       "563                         \n",
       "564                         \n",
       "\n",
       "[565 rows x 9 columns]"
      ]
     },
     "execution_count": 59,
     "metadata": {},
     "output_type": "execute_result"
    }
   ],
   "source": [
    "#create a dataframe to hold city information\n",
    "df = pd.DataFrame({\"City Name\": cities,\n",
    "                   \"Latitude\": \"\",\n",
    "                   \"Longitude\": \"\",\n",
    "                   \"Max Temp\": \"\",\n",
    "                   \"Humidity\": \"\",\n",
    "                   \"Cloudiness\": \"\",\n",
    "                   \"Wind Speed\": \"\",\n",
    "                   \"Country\": \"\",\n",
    "                   \"City Date/Time\": \"\"})\n",
    "\n",
    "#Remove any duplicate rows based on city name\n",
    "df = df.drop_duplicates(subset=[\"City Name\"], ignore_index=True)\n",
    "df"
   ]
  },
  {
   "cell_type": "markdown",
   "metadata": {},
   "source": [
    "### Perform API Calls\n",
    "* Perform a weather check on each city using a series of successive API calls.\n",
    "* Include a print log of each city as it'sbeing processed (with the city number and city name).\n"
   ]
  },
  {
   "cell_type": "code",
   "execution_count": 85,
   "metadata": {
    "scrolled": true
   },
   "outputs": [
    {
     "name": "stderr",
     "output_type": "stream",
     "text": [
      "/opt/anaconda3/lib/python3.9/site-packages/pandas/core/indexing.py:1817: SettingWithCopyWarning: \n",
      "A value is trying to be set on a copy of a slice from a DataFrame.\n",
      "Try using .loc[row_indexer,col_indexer] = value instead\n",
      "\n",
      "See the caveats in the documentation: https://pandas.pydata.org/pandas-docs/stable/user_guide/indexing.html#returning-a-view-versus-a-copy\n",
      "  self._setitem_single_column(loc, value, pi)\n"
     ]
    },
    {
     "name": "stdout",
     "output_type": "stream",
     "text": [
      "Checking weather at komsomolskiy, city number 1\n",
      "Checking weather at lebu, city number 2\n",
      "Checking weather at eyl, city number 3\n",
      "Checking weather at oga, city number 4\n",
      "Checking weather at ushuaia, city number 5\n",
      "Checking weather at oranjemund, city number 6\n",
      "Checking weather at tasiilaq, city number 7\n",
      "Checking weather at upernavik, city number 9\n",
      "Checking weather at tiksi, city number 10\n",
      "Checking weather at hermanus, city number 12\n",
      "Checking weather at kosh-agach, city number 13\n",
      "Checking weather at cape town, city number 14\n",
      "Checking weather at clyde river, city number 15\n",
      "Checking weather at airai, city number 16\n",
      "Checking weather at new norfolk, city number 18\n",
      "Checking weather at presidencia roque saenz pena, city number 19\n",
      "Checking weather at healdsburg, city number 20\n",
      "Checking weather at sur, city number 21\n",
      "Checking weather at impfondo, city number 22\n",
      "Checking weather at hambantota, city number 23\n",
      "Checking weather at san patricio, city number 24\n",
      "Checking weather at albany, city number 25\n",
      "Checking weather at georgetown, city number 26\n",
      "Checking weather at lorengau, city number 27\n",
      "Checking weather at port alfred, city number 28\n",
      "Checking weather at bilma, city number 29\n",
      "Checking weather at nadym, city number 30\n",
      "Checking weather at dergachi, city number 31\n",
      "Checking weather at bengkulu, city number 32\n",
      "Checking weather at torbay, city number 33\n",
      "Checking weather at xining, city number 34\n",
      "Checking weather at geraldton, city number 35\n",
      "Checking weather at punta arenas, city number 36\n",
      "Checking weather at katobu, city number 37\n",
      "Checking weather at kaitangata, city number 38\n",
      "Checking weather at buala, city number 39\n",
      "Checking weather at tonantins, city number 40\n",
      "Checking weather at maragogi, city number 41\n",
      "Checking weather at la puebla de cazalla, city number 42\n",
      "Checking weather at thompson, city number 43\n",
      "Checking weather at oruro, city number 44\n",
      "Checking weather at ladario, city number 45\n",
      "Checking weather at rikitea, city number 46\n",
      "Checking weather at cockburn town, city number 47\n",
      "Checking weather at mabaruma, city number 48\n",
      "Checking weather at akyab, city number 49\n",
      "Checking weather at atuona, city number 50\n",
      "Checking weather at hobart, city number 51\n",
      "Checking weather at banff, city number 52\n",
      "Checking weather at ulladulla, city number 53\n",
      "Checking weather at krasnogorsk, city number 54\n",
      "Checking weather at olinda, city number 55\n",
      "Checking weather at qaanaaq, city number 56\n",
      "Checking weather at harper, city number 57\n",
      "Checking weather at pisco, city number 58\n",
      "Checking weather at shar, city number 59\n",
      "Checking weather at rehoboth, city number 60\n",
      "Checking weather at port elizabeth, city number 61\n",
      "Checking weather at krasnoselkup, city number 62\n",
      "Checking weather at vila franca do campo, city number 63\n",
      "Checking weather at hilo, city number 64\n",
      "Checking weather at mgandu, city number 65\n",
      "Checking weather at east london, city number 66\n",
      "Checking weather at norman wells, city number 68\n",
      "Checking weather at bluff, city number 69\n",
      "Checking weather at filingue, city number 70\n",
      "Checking weather at ostrovnoy, city number 71\n",
      "Checking weather at labuhan, city number 72\n",
      "Checking weather at tuktoyaktuk, city number 73\n",
      "Checking weather at saint-pierre, city number 74\n",
      "Checking weather at pacific grove, city number 77\n",
      "Checking weather at mataura, city number 79\n",
      "Checking weather at codrington, city number 80\n",
      "Checking weather at bosaso, city number 81\n",
      "Checking weather at natal, city number 82\n",
      "Checking weather at kandalaksha, city number 83\n",
      "Checking weather at puerto ayora, city number 85\n",
      "Checking weather at hithadhoo, city number 86\n",
      "Checking weather at san juan, city number 87\n",
      "Checking weather at malakal, city number 88\n",
      "Checking weather at mahebourg, city number 89\n",
      "Checking weather at red bank, city number 90\n",
      "Checking weather at bredasdorp, city number 91\n",
      "Checking weather at san jose, city number 92\n",
      "Checking weather at forbes, city number 93\n",
      "Checking weather at kathu, city number 95\n",
      "Checking weather at nanortalik, city number 96\n",
      "Checking weather at henties bay, city number 97\n",
      "Checking weather at bolshoye selo, city number 98\n",
      "Checking weather at vostok, city number 99\n",
      "Checking weather at joshimath, city number 100\n",
      "Checking weather at hrymayliv, city number 102\n",
      "Checking weather at sao filipe, city number 103\n",
      "Checking weather at chapais, city number 104\n",
      "Checking weather at mar del plata, city number 106\n",
      "Checking weather at tarrafal, city number 107\n",
      "Checking weather at lasa, city number 108\n",
      "Checking weather at eskisehir, city number 109\n",
      "Checking weather at lata, city number 110\n",
      "Checking weather at vaini, city number 111\n",
      "Checking weather at hayden, city number 112\n",
      "Checking weather at bathsheba, city number 113\n",
      "Checking weather at butaritari, city number 114\n",
      "Checking weather at camacha, city number 115\n",
      "Checking weather at vardo, city number 116\n",
      "Checking weather at saurimo, city number 117\n",
      "Checking weather at taoudenni, city number 118\n",
      "Checking weather at jalu, city number 119\n",
      "Checking weather at berdigestyakh, city number 120\n",
      "Checking weather at ribeira grande, city number 121\n",
      "Checking weather at saint-philippe, city number 122\n",
      "Checking weather at nador, city number 123\n",
      "Checking weather at iwanai, city number 124\n",
      "Checking weather at lipova, city number 125\n",
      "Checking weather at dikson, city number 126\n",
      "Checking weather at victoria, city number 127\n",
      "Checking weather at price, city number 128\n",
      "Checking weather at riyadh, city number 129\n",
      "Checking weather at puerto escondido, city number 130\n",
      "Checking weather at jamestown, city number 131\n",
      "Checking weather at hervey bay, city number 132\n",
      "Checking weather at kapaa, city number 133\n",
      "Checking weather at barrow, city number 134\n",
      "Checking weather at san quintin, city number 135\n",
      "Checking weather at bereda, city number 136\n",
      "Checking weather at samarai, city number 137\n",
      "Checking weather at lompoc, city number 138\n",
      "Checking weather at severo-kurilsk, city number 139\n",
      "Checking weather at port hedland, city number 140\n",
      "Checking weather at domoni, city number 141\n",
      "Checking weather at arraial do cabo, city number 142\n",
      "Checking weather at saskylakh, city number 144\n",
      "Checking weather at mangrol, city number 145\n",
      "Checking weather at tapejara, city number 147\n",
      "Checking weather at coquimbo, city number 148\n",
      "Checking weather at narsaq, city number 149\n",
      "Checking weather at kaka, city number 150\n",
      "Checking weather at san cristobal, city number 151\n",
      "Checking weather at kjollefjord, city number 152\n",
      "Checking weather at natitingou, city number 153\n",
      "Checking weather at namatanai, city number 155\n",
      "Checking weather at khani, city number 156\n",
      "Checking weather at barcelos, city number 157\n",
      "Checking weather at baragua, city number 158\n",
      "Checking weather at westport, city number 159\n",
      "Checking weather at yellowknife, city number 160\n",
      "Checking weather at touros, city number 161\n",
      "Checking weather at kloulklubed, city number 162\n",
      "Checking weather at songjianghe, city number 163\n",
      "Checking weather at nankana sahib, city number 164\n",
      "Checking weather at mindelo, city number 165\n",
      "Checking weather at busselton, city number 166\n",
      "Checking weather at klaksvik, city number 167\n",
      "Checking weather at vanavara, city number 168\n",
      "Checking weather at caravelas, city number 169\n",
      "Checking weather at kudahuvadhoo, city number 170\n",
      "Checking weather at bud, city number 171\n",
      "Checking weather at acapulco, city number 172\n",
      "Checking weather at indian head, city number 173\n",
      "Checking weather at borovoy, city number 174\n",
      "Checking weather at kavaratti, city number 175\n",
      "Checking weather at koungou, city number 176\n",
      "Checking weather at broome, city number 177\n",
      "Checking weather at ponta do sol, city number 179\n",
      "Checking weather at sorland, city number 180\n",
      "Checking weather at quang ngai, city number 181\n",
      "Checking weather at kargasok, city number 182\n",
      "Checking weather at tartus, city number 185\n",
      "Checking weather at abu kamal, city number 186\n",
      "Checking weather at nikolskoye, city number 187\n",
      "Checking weather at beloha, city number 188\n",
      "Checking weather at bethel, city number 189\n",
      "Checking weather at pak phanang, city number 190\n",
      "Checking weather at lagoa, city number 193\n",
      "Checking weather at brandon, city number 194\n",
      "Checking weather at avarua, city number 195\n",
      "Checking weather at chuy, city number 196\n",
      "Checking weather at chake chake, city number 197\n",
      "Checking weather at batticaloa, city number 198\n",
      "Checking weather at kahului, city number 199\n",
      "Checking weather at rawson, city number 200\n",
      "Checking weather at cooma, city number 201\n",
      "Checking weather at ilulissat, city number 202\n",
      "Checking weather at baghdad, city number 203\n",
      "Checking weather at cidreira, city number 204\n",
      "Checking weather at smithers, city number 206\n",
      "Checking weather at talaya, city number 207\n",
      "Checking weather at polevskoy, city number 208\n",
      "Checking weather at dunda, city number 209\n",
      "Checking weather at ballina, city number 210\n",
      "Checking weather at nouadhibou, city number 211\n",
      "Checking weather at dunedin, city number 212\n",
      "Checking weather at bacum, city number 213\n",
      "Checking weather at ambanja, city number 214\n",
      "Checking weather at olean, city number 215\n",
      "Checking weather at gat, city number 217\n",
      "Checking weather at hasaki, city number 218\n",
      "Checking weather at birobidzhan, city number 219\n",
      "Checking weather at bambous virieux, city number 220\n",
      "Checking weather at provideniya, city number 221\n",
      "Checking weather at deputatskiy, city number 222\n",
      "Checking weather at verkhniye sergi, city number 223\n",
      "Checking weather at vanimo, city number 224\n",
      "Checking weather at yakovlevo, city number 225\n",
      "Checking weather at pamplona, city number 226\n",
      "Checking weather at juneau, city number 227\n",
      "Checking weather at carnarvon, city number 229\n",
      "Checking weather at sitka, city number 230\n",
      "Checking weather at mujiayingzi, city number 231\n",
      "Checking weather at opuwo, city number 233\n",
      "Checking weather at matagami, city number 235\n",
      "Checking weather at rio gallegos, city number 236\n",
      "Checking weather at pingdingshan, city number 237\n",
      "Checking weather at pontian kecil, city number 238\n",
      "Checking weather at ugra, city number 239\n",
      "Checking weather at khatanga, city number 240\n",
      "Checking weather at qaqortoq, city number 241\n",
      "Checking weather at ardino, city number 242\n",
      "Checking weather at castro, city number 243\n",
      "Checking weather at saint-louis, city number 244\n",
      "Checking weather at bodden town, city number 245\n",
      "Checking weather at subtanjalla, city number 246\n",
      "Checking weather at torbat-e jam, city number 247\n",
      "Checking weather at grenada, city number 248\n",
      "Checking weather at adre, city number 249\n",
      "Checking weather at carauari, city number 250\n",
      "Checking weather at petropavlovsk-kamchatskiy, city number 251\n",
      "Checking weather at esperance, city number 252\n",
      "Checking weather at talcahuano, city number 253\n",
      "Checking weather at shache, city number 254\n",
      "Checking weather at srednekolymsk, city number 255\n",
      "Checking weather at navahrudak, city number 256\n",
      "Checking weather at shingu, city number 257\n",
      "Checking weather at hokitika, city number 258\n",
      "Checking weather at awjilah, city number 259\n",
      "Checking weather at otjiwarongo, city number 260\n",
      "Checking weather at haiger, city number 261\n",
      "Checking weather at ensley, city number 262\n",
      "Checking weather at port-cartier, city number 264\n",
      "Checking weather at zherdevka, city number 267\n",
      "Checking weather at leningradskiy, city number 268\n",
      "Checking weather at darhan, city number 269\n",
      "Checking weather at chokurdakh, city number 270\n",
      "Checking weather at raton, city number 271\n",
      "Checking weather at jaguaruna, city number 272\n",
      "Checking weather at te anau, city number 273\n",
      "Checking weather at tooele, city number 274\n",
      "Checking weather at tiarei, city number 275\n",
      "Checking weather at kichera, city number 276\n",
      "Checking weather at beboto, city number 277\n",
      "Checking weather at vila velha, city number 278\n",
      "Checking weather at kazachinskoye, city number 279\n",
      "Checking weather at husavik, city number 280\n",
      "Checking weather at doha, city number 281\n",
      "Checking weather at loiza, city number 282\n",
      "Checking weather at tomatlan, city number 283\n",
      "Checking weather at souillac, city number 284\n",
      "Checking weather at zaykovo, city number 285\n",
      "Checking weather at vao, city number 286\n",
      "Checking weather at zaozerne, city number 287\n",
      "Checking weather at talnakh, city number 289\n",
      "Checking weather at saint anthony, city number 290\n",
      "Checking weather at porto novo, city number 291\n",
      "Checking weather at mehamn, city number 292\n",
      "Checking weather at lavrentiya, city number 293\n",
      "Checking weather at winkler, city number 294\n",
      "Checking weather at ixtapa, city number 295\n",
      "Checking weather at nurota, city number 297\n",
      "Checking weather at alofi, city number 298\n",
      "Checking weather at strezhevoy, city number 299\n",
      "Checking weather at champerico, city number 300\n",
      "Checking weather at ingham, city number 301\n",
      "Checking weather at yulara, city number 302\n",
      "Checking weather at guerrero negro, city number 303\n",
      "Checking weather at luwuk, city number 304\n",
      "Checking weather at tanete, city number 305\n",
      "Checking weather at sibu, city number 306\n",
      "Checking weather at maniwaki, city number 307\n",
      "Checking weather at kruisfontein, city number 308\n",
      "Checking weather at bazarnyye mataki, city number 309\n",
      "Checking weather at cayenne, city number 310\n",
      "Checking weather at abrau-dyurso, city number 311\n",
      "Checking weather at port moresby, city number 313\n",
      "Checking weather at abha, city number 314\n",
      "Checking weather at kodinsk, city number 315\n",
      "Checking weather at tera, city number 316\n",
      "Checking weather at athabasca, city number 317\n",
      "Checking weather at omboue, city number 318\n",
      "Checking weather at hovd, city number 319\n",
      "Checking weather at hofn, city number 321\n",
      "Checking weather at comodoro rivadavia, city number 322\n",
      "Checking weather at longyearbyen, city number 323\n",
      "Checking weather at katherine, city number 324\n",
      "Checking weather at berlevag, city number 325\n",
      "Checking weather at danjiangkou, city number 326\n",
      "Checking weather at ilo, city number 327\n",
      "Checking weather at lincoln, city number 328\n",
      "Checking weather at guaruja, city number 329\n",
      "Checking weather at constitucion, city number 330\n",
      "Checking weather at fairbanks, city number 331\n",
      "Checking weather at jamui, city number 332\n",
      "Checking weather at palana, city number 334\n",
      "Checking weather at port blair, city number 335\n",
      "Checking weather at kedrovyy, city number 336\n",
      "Checking weather at atar, city number 337\n",
      "Checking weather at iqaluit, city number 338\n",
      "Checking weather at agar, city number 339\n",
      "Checking weather at torgau, city number 341\n",
      "Checking weather at boyolangu, city number 342\n",
      "Checking weather at saint-augustin, city number 343\n",
      "Checking weather at kurilsk, city number 345\n",
      "Checking weather at barra patuca, city number 346\n",
      "Checking weather at salalah, city number 347\n",
      "Checking weather at kushalgarh, city number 348\n",
      "Checking weather at sembakung, city number 349\n",
      "Checking weather at willowmore, city number 350\n",
      "Checking weather at salinas, city number 351\n",
      "Checking weather at cabo san lucas, city number 352\n",
      "Checking weather at general roca, city number 353\n",
      "Checking weather at aksarka, city number 354\n",
      "Checking weather at valencia, city number 355\n",
      "Checking weather at oyama, city number 356\n",
      "Checking weather at namibe, city number 357\n",
      "Checking weather at russell, city number 358\n",
      "Checking weather at wana, city number 359\n",
      "Checking weather at saldanha, city number 360\n",
      "Checking weather at tateyama, city number 361\n",
      "Checking weather at morondava, city number 362\n",
      "Checking weather at pimentel, city number 363\n",
      "Checking weather at kaeo, city number 364\n",
      "Checking weather at la rioja, city number 365\n",
      "Checking weather at hobyo, city number 366\n",
      "Checking weather at luanda, city number 367\n",
      "Checking weather at bartica, city number 368\n",
      "Checking weather at kieta, city number 369\n",
      "Checking weather at isiolo, city number 370\n",
      "Checking weather at saint joseph, city number 371\n",
      "Checking weather at phan thiet, city number 372\n",
      "Checking weather at yar-sale, city number 373\n",
      "Checking weather at merritt island, city number 374\n",
      "Checking weather at daru, city number 376\n",
      "Checking weather at sao joao da barra, city number 377\n",
      "Checking weather at ankang, city number 378\n",
      "Checking weather at ugoofaaru, city number 379\n",
      "Checking weather at puerto del rosario, city number 380\n",
      "Checking weather at port hardy, city number 381\n",
      "Checking weather at san rafael, city number 382\n",
      "Checking weather at port said, city number 383\n",
      "Checking weather at tulu bolo, city number 384\n",
      "Checking weather at fjerritslev, city number 385\n",
      "Checking weather at mao, city number 386\n",
      "Checking weather at cherskiy, city number 387\n",
      "Checking weather at ola, city number 388\n",
      "Checking weather at davenport, city number 389\n",
      "Checking weather at angra dos reis, city number 390\n",
      "Checking weather at vestmannaeyjar, city number 391\n",
      "Checking weather at sehwan, city number 392\n",
      "Checking weather at rocha, city number 393\n",
      "Checking weather at cap malheureux, city number 394\n",
      "Checking weather at usinsk, city number 395\n",
      "Checking weather at axim, city number 396\n",
      "Checking weather at patacamaya, city number 397\n",
      "Checking weather at mount abu, city number 398\n",
      "Checking weather at mount gambier, city number 399\n",
      "Checking weather at fortuna, city number 400\n",
      "Checking weather at teya, city number 401\n",
      "Checking weather at puerto narino, city number 402\n",
      "Checking weather at sungaipenuh, city number 404\n",
      "Checking weather at isangel, city number 405\n",
      "Checking weather at dingle, city number 406\n",
      "Checking weather at coahuayana, city number 407\n",
      "Checking weather at faya, city number 408\n",
      "Checking weather at gigmoto, city number 409\n",
      "Checking weather at hamilton, city number 410\n",
      "Checking weather at mount darwin, city number 411\n",
      "Checking weather at phon, city number 412\n",
      "Checking weather at glomfjord, city number 413\n",
      "Checking weather at emba, city number 414\n",
      "Checking weather at port lincoln, city number 415\n",
      "Checking weather at gillette, city number 416\n",
      "Checking weather at severnoye, city number 417\n",
      "Checking weather at egvekinot, city number 418\n",
      "Checking weather at palmer, city number 419\n",
      "Checking weather at kununurra, city number 420\n",
      "Checking weather at pochutla, city number 421\n",
      "Checking weather at cairns, city number 422\n",
      "Checking weather at tevaitoa, city number 423\n",
      "Checking weather at saint george, city number 424\n",
      "Checking weather at dickson, city number 425\n",
      "Checking weather at palu, city number 426\n",
      "Checking weather at witu, city number 427\n",
      "Checking weather at rostovka, city number 428\n",
      "Checking weather at carballo, city number 429\n",
      "Checking weather at faanui, city number 430\n",
      "Checking weather at chalmette, city number 431\n",
      "Checking weather at merauke, city number 432\n",
      "Checking weather at benjamin constant, city number 433\n",
      "Checking weather at iquitos, city number 434\n",
      "Checking weather at banda aceh, city number 435\n",
      "Checking weather at thohoyandou, city number 436\n",
      "Checking weather at oussouye, city number 437\n",
      "Checking weather at karratha, city number 438\n",
      "Checking weather at urucara, city number 439\n",
      "Checking weather at taywarah, city number 440\n",
      "Checking weather at saint-ambroise, city number 441\n",
      "Checking weather at saint-michel-des-saints, city number 443\n",
      "Checking weather at talara, city number 444\n",
      "Checking weather at machilipatnam, city number 445\n",
      "Checking weather at kodiak, city number 446\n",
      "Checking weather at sisimiut, city number 447\n",
      "Checking weather at lubango, city number 448\n",
      "Checking weather at asau, city number 450\n",
      "Checking weather at shaunavon, city number 451\n",
      "Checking weather at pangody, city number 452\n",
      "Checking weather at aki, city number 453\n",
      "Checking weather at katsuura, city number 454\n",
      "Checking weather at viedma, city number 455\n",
      "Checking weather at oistins, city number 456\n",
      "Checking weather at folkestone, city number 457\n",
      "Checking weather at puri, city number 458\n",
      "Checking weather at savalou, city number 459\n",
      "Checking weather at tuatapere, city number 460\n",
      "Checking weather at marhaura, city number 461\n",
      "Checking weather at murray bridge, city number 462\n",
      "Checking weather at lakes entrance, city number 464\n",
      "Checking weather at kingsville, city number 465\n",
      "Checking weather at ravar, city number 466\n",
      "Checking weather at balad, city number 467\n",
      "Checking weather at sandeid, city number 468\n",
      "Checking weather at tura, city number 469\n",
      "Checking weather at valparaiso, city number 470\n",
      "Checking weather at burgos, city number 471\n",
      "Checking weather at burnie, city number 472\n",
      "Checking weather at kainantu, city number 473\n",
      "Checking weather at seoul, city number 474\n",
      "Checking weather at baruun-urt, city number 475\n",
      "Checking weather at beringovskiy, city number 476\n",
      "Checking weather at luderitz, city number 477\n",
      "Checking weather at kavieng, city number 478\n",
      "Checking weather at pizarro, city number 479\n",
      "Checking weather at george town, city number 480\n",
      "Checking weather at vila, city number 481\n",
      "Checking weather at bousso, city number 482\n",
      "Checking weather at mandan, city number 483\n",
      "Checking weather at kozhva, city number 484\n",
      "Checking weather at yushan, city number 485\n",
      "Checking weather at basco, city number 486\n",
      "Checking weather at bissau, city number 487\n",
      "Checking weather at soyo, city number 488\n",
      "Checking weather at olafsvik, city number 490\n",
      "Checking weather at port augusta, city number 491\n",
      "Checking weather at marsabit, city number 492\n",
      "Checking weather at antofagasta, city number 493\n",
      "Checking weather at ahvaz, city number 494\n",
      "Checking weather at diffa, city number 495\n",
      "Checking weather at danilov, city number 496\n",
      "Checking weather at camana, city number 497\n",
      "Checking weather at nome, city number 498\n",
      "Checking weather at paamiut, city number 499\n",
      "Checking weather at odessa, city number 500\n",
      "Checking weather at santa maria, city number 501\n",
      "Checking weather at koumac, city number 502\n",
      "Checking weather at zhoukou, city number 503\n",
      "Checking weather at hope, city number 504\n",
      "Checking weather at tokoroa, city number 506\n",
      "Checking weather at cavalcante, city number 507\n",
      "Checking weather at san andres, city number 508\n",
      "Checking weather at quesnel, city number 509\n",
      "Checking weather at the valley, city number 510\n",
      "Checking weather at san carlos de bariloche, city number 511\n",
      "Checking weather at marang, city number 512\n",
      "Checking weather at hirara, city number 514\n",
      "Checking weather at florianopolis, city number 515\n",
      "Checking weather at belaya gora, city number 516\n",
      "Checking weather at sebastian, city number 517\n",
      "Checking weather at hunchun, city number 519\n",
      "Checking weather at abapo, city number 520\n",
      "Checking weather at beitbridge, city number 521\n",
      "Checking weather at olga, city number 522\n",
      "Checking weather at marovoay, city number 523\n",
      "Checking weather at kiama, city number 524\n",
      "Checking weather at kemin, city number 525\n",
      "Checking weather at novoseleznevo, city number 526\n",
      "Checking weather at mkushi, city number 527\n",
      "Checking weather at byron bay, city number 528\n",
      "Checking weather at taos, city number 529\n",
      "Checking weather at gushikawa, city number 530\n",
      "Checking weather at adrar, city number 531\n",
      "Checking weather at buraydah, city number 532\n",
      "Checking weather at poum, city number 533\n",
      "Checking weather at kawalu, city number 534\n",
      "Checking weather at yamethin, city number 535\n",
      "Checking weather at kenai, city number 536\n",
      "Checking weather at pevek, city number 537\n",
      "Checking weather at avera, city number 538\n",
      "Checking weather at muravlenko, city number 539\n",
      "Checking weather at nipawin, city number 540\n",
      "Checking weather at tilichiki, city number 541\n",
      "Checking weather at keetmanshoop, city number 542\n",
      "Checking weather at huanren, city number 543\n",
      "Checking weather at north bend, city number 545\n",
      "Checking weather at oktyabrskiy, city number 546\n",
      "Checking weather at nemuro, city number 548\n",
      "Checking weather at porto walter, city number 549\n",
      "Checking weather at suntar, city number 550\n",
      "Checking weather at popondetta, city number 551\n",
      "Checking weather at chicama, city number 552\n",
      "Checking weather at ko samui, city number 553\n",
      "Checking weather at santa fe, city number 555\n",
      "Checking weather at johi, city number 556\n",
      "Checking weather at caxito, city number 557\n",
      "Checking weather at lingao, city number 558\n",
      "Checking weather at coihaique, city number 560\n",
      "Checking weather at robertsport, city number 561\n",
      "Checking weather at novoagansk, city number 562\n",
      "Checking weather at mareeba, city number 563\n",
      "Checking weather at itarema, city number 564\n"
     ]
    }
   ],
   "source": [
    "# Use a for loop to build the query url from DataFrame of city names\n",
    "## Use try and except functions to skip over rows with no weather information available\n",
    "for index, row in df.iterrows():\n",
    "    \n",
    "    try:\n",
    "        city = row[\"City Name\"]\n",
    "    \n",
    "        query_url = f\"{url}appid={weather_api_key}&q={city}&units=metric\"\n",
    "    \n",
    "        response = requests.get(query_url)\n",
    "        cities_info = response.json()\n",
    "\n",
    "        #Store the exact latitude and longitude values for each city\n",
    "        df.loc[index, \"Latitude\"] = cities_info['coord']['lat']\n",
    "        df.loc[index, \"Longitude\"] = cities_info['coord']['lon']\n",
    "        df.loc[index, \"Max Temp\"] = cities_info[\"main\"][\"temp_max\"]\n",
    "        df.loc[index, \"Humidity\"] = cities_info[\"main\"][\"humidity\"]\n",
    "        df.loc[index, \"Cloudiness\"] = cities_info[\"clouds\"][\"all\"]\n",
    "        df.loc[index, \"Wind Speed\"] = cities_info[\"wind\"][\"speed\"]\n",
    "        df.loc[index, \"Country\"] = cities_info[\"sys\"][\"country\"]\n",
    "        df.loc[index, \"City Date/Time\"] = cities_info[\"dt\"]\n",
    "    \n",
    "    except KeyError:\n",
    "        print(f\"No data available for {city}\")\n",
    "    \n",
    "    #Print log of city as it is checked\n",
    "    print(f\"Checking weather at {city}, city number {index + 1}\")\n"
   ]
  },
  {
   "cell_type": "markdown",
   "metadata": {},
   "source": [
    "### Convert Raw Data to DataFrame\n",
    "* Export the city data into a .csv.\n",
    "* Display the DataFrame"
   ]
  },
  {
   "cell_type": "code",
   "execution_count": 61,
   "metadata": {},
   "outputs": [
    {
     "data": {
      "text/html": [
       "<div>\n",
       "<style scoped>\n",
       "    .dataframe tbody tr th:only-of-type {\n",
       "        vertical-align: middle;\n",
       "    }\n",
       "\n",
       "    .dataframe tbody tr th {\n",
       "        vertical-align: top;\n",
       "    }\n",
       "\n",
       "    .dataframe thead th {\n",
       "        text-align: right;\n",
       "    }\n",
       "</style>\n",
       "<table border=\"1\" class=\"dataframe\">\n",
       "  <thead>\n",
       "    <tr style=\"text-align: right;\">\n",
       "      <th></th>\n",
       "      <th>City Name</th>\n",
       "      <th>Latitude</th>\n",
       "      <th>Longitude</th>\n",
       "      <th>Max Temp</th>\n",
       "      <th>Humidity</th>\n",
       "      <th>Cloudiness</th>\n",
       "      <th>Wind Speed</th>\n",
       "      <th>Country</th>\n",
       "      <th>City Date/Time</th>\n",
       "    </tr>\n",
       "  </thead>\n",
       "  <tbody>\n",
       "    <tr>\n",
       "      <th>0</th>\n",
       "      <td>komsomolskiy</td>\n",
       "      <td>40.4272</td>\n",
       "      <td>71.7189</td>\n",
       "      <td>23.40</td>\n",
       "      <td>40.0</td>\n",
       "      <td>100.0</td>\n",
       "      <td>1.03</td>\n",
       "      <td>UZ</td>\n",
       "      <td>1651053980</td>\n",
       "    </tr>\n",
       "    <tr>\n",
       "      <th>1</th>\n",
       "      <td>lebu</td>\n",
       "      <td>-37.6167</td>\n",
       "      <td>-73.6500</td>\n",
       "      <td>11.07</td>\n",
       "      <td>84.0</td>\n",
       "      <td>85.0</td>\n",
       "      <td>9.86</td>\n",
       "      <td>CL</td>\n",
       "      <td>1651053925</td>\n",
       "    </tr>\n",
       "    <tr>\n",
       "      <th>2</th>\n",
       "      <td>eyl</td>\n",
       "      <td>7.9803</td>\n",
       "      <td>49.8164</td>\n",
       "      <td>31.06</td>\n",
       "      <td>57.0</td>\n",
       "      <td>83.0</td>\n",
       "      <td>5.40</td>\n",
       "      <td>SO</td>\n",
       "      <td>1651054231</td>\n",
       "    </tr>\n",
       "    <tr>\n",
       "      <th>3</th>\n",
       "      <td>oga</td>\n",
       "      <td>46.4631</td>\n",
       "      <td>10.3470</td>\n",
       "      <td>11.56</td>\n",
       "      <td>64.0</td>\n",
       "      <td>6.0</td>\n",
       "      <td>1.97</td>\n",
       "      <td>IT</td>\n",
       "      <td>1651054232</td>\n",
       "    </tr>\n",
       "    <tr>\n",
       "      <th>4</th>\n",
       "      <td>ushuaia</td>\n",
       "      <td>-54.8000</td>\n",
       "      <td>-68.3000</td>\n",
       "      <td>1.58</td>\n",
       "      <td>97.0</td>\n",
       "      <td>98.0</td>\n",
       "      <td>3.77</td>\n",
       "      <td>AR</td>\n",
       "      <td>1651054232</td>\n",
       "    </tr>\n",
       "    <tr>\n",
       "      <th>...</th>\n",
       "      <td>...</td>\n",
       "      <td>...</td>\n",
       "      <td>...</td>\n",
       "      <td>...</td>\n",
       "      <td>...</td>\n",
       "      <td>...</td>\n",
       "      <td>...</td>\n",
       "      <td>...</td>\n",
       "      <td>...</td>\n",
       "    </tr>\n",
       "    <tr>\n",
       "      <th>559</th>\n",
       "      <td>coihaique</td>\n",
       "      <td>-45.5752</td>\n",
       "      <td>-72.0662</td>\n",
       "      <td>-1.03</td>\n",
       "      <td>93.0</td>\n",
       "      <td>0.0</td>\n",
       "      <td>1.54</td>\n",
       "      <td>CL</td>\n",
       "      <td>1651053947</td>\n",
       "    </tr>\n",
       "    <tr>\n",
       "      <th>560</th>\n",
       "      <td>robertsport</td>\n",
       "      <td>6.7533</td>\n",
       "      <td>-11.3686</td>\n",
       "      <td>28.26</td>\n",
       "      <td>75.0</td>\n",
       "      <td>97.0</td>\n",
       "      <td>1.89</td>\n",
       "      <td>LR</td>\n",
       "      <td>1651054340</td>\n",
       "    </tr>\n",
       "    <tr>\n",
       "      <th>561</th>\n",
       "      <td>novoagansk</td>\n",
       "      <td>61.9449</td>\n",
       "      <td>76.6625</td>\n",
       "      <td>5.07</td>\n",
       "      <td>100.0</td>\n",
       "      <td>100.0</td>\n",
       "      <td>5.92</td>\n",
       "      <td>RU</td>\n",
       "      <td>1651054340</td>\n",
       "    </tr>\n",
       "    <tr>\n",
       "      <th>562</th>\n",
       "      <td>mareeba</td>\n",
       "      <td>-17.0000</td>\n",
       "      <td>145.4333</td>\n",
       "      <td>23.40</td>\n",
       "      <td>88.0</td>\n",
       "      <td>60.0</td>\n",
       "      <td>1.42</td>\n",
       "      <td>AU</td>\n",
       "      <td>1651054340</td>\n",
       "    </tr>\n",
       "    <tr>\n",
       "      <th>563</th>\n",
       "      <td>itarema</td>\n",
       "      <td>-2.9248</td>\n",
       "      <td>-39.9167</td>\n",
       "      <td>24.87</td>\n",
       "      <td>87.0</td>\n",
       "      <td>40.0</td>\n",
       "      <td>4.27</td>\n",
       "      <td>BR</td>\n",
       "      <td>1651054340</td>\n",
       "    </tr>\n",
       "  </tbody>\n",
       "</table>\n",
       "<p>517 rows × 9 columns</p>\n",
       "</div>"
      ],
      "text/plain": [
       "        City Name  Latitude  Longitude  Max Temp  Humidity  Cloudiness  \\\n",
       "0    komsomolskiy   40.4272    71.7189     23.40      40.0       100.0   \n",
       "1            lebu  -37.6167   -73.6500     11.07      84.0        85.0   \n",
       "2             eyl    7.9803    49.8164     31.06      57.0        83.0   \n",
       "3             oga   46.4631    10.3470     11.56      64.0         6.0   \n",
       "4         ushuaia  -54.8000   -68.3000      1.58      97.0        98.0   \n",
       "..            ...       ...        ...       ...       ...         ...   \n",
       "559     coihaique  -45.5752   -72.0662     -1.03      93.0         0.0   \n",
       "560   robertsport    6.7533   -11.3686     28.26      75.0        97.0   \n",
       "561    novoagansk   61.9449    76.6625      5.07     100.0       100.0   \n",
       "562       mareeba  -17.0000   145.4333     23.40      88.0        60.0   \n",
       "563       itarema   -2.9248   -39.9167     24.87      87.0        40.0   \n",
       "\n",
       "     Wind Speed Country City Date/Time  \n",
       "0          1.03      UZ     1651053980  \n",
       "1          9.86      CL     1651053925  \n",
       "2          5.40      SO     1651054231  \n",
       "3          1.97      IT     1651054232  \n",
       "4          3.77      AR     1651054232  \n",
       "..          ...     ...            ...  \n",
       "559        1.54      CL     1651053947  \n",
       "560        1.89      LR     1651054340  \n",
       "561        5.92      RU     1651054340  \n",
       "562        1.42      AU     1651054340  \n",
       "563        4.27      BR     1651054340  \n",
       "\n",
       "[517 rows x 9 columns]"
      ]
     },
     "execution_count": 61,
     "metadata": {},
     "output_type": "execute_result"
    }
   ],
   "source": [
    "#Convert values from API to numerical values, in order to plot later\n",
    "df[\"Latitude\"] = pd.to_numeric(df[\"Latitude\"], errors='coerce')\n",
    "df[\"Longitude\"] = pd.to_numeric(df[\"Longitude\"], errors='coerce')\n",
    "df[\"Max Temp\"] = pd.to_numeric(df[\"Max Temp\"], errors='coerce')\n",
    "df[\"Humidity\"] = pd.to_numeric(df[\"Humidity\"], errors='coerce')\n",
    "df[\"Cloudiness\"] = pd.to_numeric(df[\"Cloudiness\"], errors='coerce')\n",
    "df[\"Wind Speed\"] = pd.to_numeric(df[\"Wind Speed\"], errors='coerce')\n",
    "\n",
    "#Save dataframe as a csv\n",
    "df.to_csv('../Cities_Weather_Info.csv')\n",
    "\n",
    "#Remove rows with no weather information available\n",
    "df = df.dropna()\n",
    "df\n"
   ]
  },
  {
   "cell_type": "markdown",
   "metadata": {},
   "source": [
    "## Inspect the data and remove the cities where the humidity > 100%.\n",
    "----\n",
    "Skip this step if there are no cities that have humidity > 100%. "
   ]
  },
  {
   "cell_type": "code",
   "execution_count": 62,
   "metadata": {},
   "outputs": [
    {
     "data": {
      "text/html": [
       "<div>\n",
       "<style scoped>\n",
       "    .dataframe tbody tr th:only-of-type {\n",
       "        vertical-align: middle;\n",
       "    }\n",
       "\n",
       "    .dataframe tbody tr th {\n",
       "        vertical-align: top;\n",
       "    }\n",
       "\n",
       "    .dataframe thead th {\n",
       "        text-align: right;\n",
       "    }\n",
       "</style>\n",
       "<table border=\"1\" class=\"dataframe\">\n",
       "  <thead>\n",
       "    <tr style=\"text-align: right;\">\n",
       "      <th></th>\n",
       "      <th>City Name</th>\n",
       "      <th>Latitude</th>\n",
       "      <th>Longitude</th>\n",
       "      <th>Max Temp</th>\n",
       "      <th>Humidity</th>\n",
       "      <th>Cloudiness</th>\n",
       "      <th>Wind Speed</th>\n",
       "      <th>Country</th>\n",
       "      <th>City Date/Time</th>\n",
       "    </tr>\n",
       "  </thead>\n",
       "  <tbody>\n",
       "  </tbody>\n",
       "</table>\n",
       "</div>"
      ],
      "text/plain": [
       "Empty DataFrame\n",
       "Columns: [City Name, Latitude, Longitude, Max Temp, Humidity, Cloudiness, Wind Speed, Country, City Date/Time]\n",
       "Index: []"
      ]
     },
     "execution_count": 62,
     "metadata": {},
     "output_type": "execute_result"
    }
   ],
   "source": [
    "#Check to see if there are any values of humidity over 100%\n",
    "humid = df.loc[df['Humidity'] > 100]\n",
    "humid\n",
    "\n",
    "#Repeated trials did not pull any data for this step"
   ]
  },
  {
   "cell_type": "markdown",
   "metadata": {},
   "source": [
    "## Plotting the Data\n",
    "* Use proper labeling of the plots using plot titles (including date of analysis) and axes labels.\n",
    "* Save the plotted figures as .pngs."
   ]
  },
  {
   "cell_type": "markdown",
   "metadata": {},
   "source": [
    "## Latitude vs. Temperature Plot"
   ]
  },
  {
   "cell_type": "code",
   "execution_count": 63,
   "metadata": {
    "scrolled": true
   },
   "outputs": [
    {
     "data": {
      "image/png": "[encoded data removed]",
      "text/plain": [
       "<Figure size 432x288 with 1 Axes>"
      ]
     },
     "metadata": {
      "needs_background": "light"
     },
     "output_type": "display_data"
    }
   ],
   "source": [
    "plt.scatter(df['Latitude'], df['Max Temp'])\n",
    "plt.title(\"Latitude vs Temperature ($^\\circ$ C)\")\n",
    "plt.ylabel(\"Max Temp\")\n",
    "plt.xlabel(\"Latitude\")\n",
    "\n",
    "plt.savefig(\"Images/Latitude_vs_Temperature.png\")"
   ]
  },
  {
   "cell_type": "markdown",
   "metadata": {},
   "source": [
    "While there are some outliers, this graph shows that as latitudes approach the equator (that is, 0 degrees latitude) temperature increases. "
   ]
  },
  {
   "cell_type": "markdown",
   "metadata": {},
   "source": [
    "## Latitude vs. Humidity Plot"
   ]
  },
  {
   "cell_type": "code",
   "execution_count": 64,
   "metadata": {},
   "outputs": [
    {
     "data": {
      "image/png": "[encoded data removed]",
      "text/plain": [
       "<Figure size 432x288 with 1 Axes>"
      ]
     },
     "metadata": {
      "needs_background": "light"
     },
     "output_type": "display_data"
    }
   ],
   "source": [
    "plt.scatter(df['Latitude'], df['Humidity'])\n",
    "plt.title(\"Latitude vs Humidity (%)\")\n",
    "plt.ylabel(\"Humidity (%)\")\n",
    "plt.xlabel(\"Latitude\")\n",
    "\n",
    "plt.savefig(\"Images/Latitude_vs_Humidity.png\")"
   ]
  },
  {
   "cell_type": "code",
   "execution_count": 65,
   "metadata": {},
   "outputs": [
    {
     "name": "stdout",
     "output_type": "stream",
     "text": [
      "The correlation between latitude and humidity is -0.02\n"
     ]
    }
   ],
   "source": [
    "#Correlation coefficient calculation\n",
    "correlation = st.pearsonr(df['Latitude'], df['Humidity'])\n",
    "print(f\"The correlation between latitude and humidity is {round(correlation[0],2)}\")"
   ]
  },
  {
   "cell_type": "markdown",
   "metadata": {},
   "source": [
    "The above graph of latitude vs humidity appears to show that there is no, or very little correlation between humidity and latitude. This can be further proven with the correlation coefficient calculated above."
   ]
  },
  {
   "cell_type": "markdown",
   "metadata": {},
   "source": [
    "## Latitude vs. Cloudiness Plot"
   ]
  },
  {
   "cell_type": "code",
   "execution_count": 66,
   "metadata": {},
   "outputs": [
    {
     "data": {
      "image/png": "[encoded data removed]",
      "text/plain": [
       "<Figure size 432x288 with 1 Axes>"
      ]
     },
     "metadata": {
      "needs_background": "light"
     },
     "output_type": "display_data"
    }
   ],
   "source": [
    "plt.scatter(df['Latitude'], df['Cloudiness'])\n",
    "plt.title(\"Latitude vs Cloudiness (%)\")\n",
    "plt.ylabel(\"Cloudiness (%)\")\n",
    "plt.xlabel(\"Latitude\")\n",
    "\n",
    "plt.savefig(\"Images/Latitude_vs_Cloudiness.png\")"
   ]
  },
  {
   "cell_type": "markdown",
   "metadata": {},
   "source": [
    "The graph above shows the relationship between latitudes and cloud cover - of which there appears to be no correlation with cloud cover varying greatly across similar latitudes."
   ]
  },
  {
   "cell_type": "markdown",
   "metadata": {},
   "source": [
    "## Latitude vs. Wind Speed Plot"
   ]
  },
  {
   "cell_type": "code",
   "execution_count": 67,
   "metadata": {},
   "outputs": [
    {
     "data": {
      "image/png": "[encoded data removed]",
      "text/plain": [
       "<Figure size 432x288 with 1 Axes>"
      ]
     },
     "metadata": {
      "needs_background": "light"
     },
     "output_type": "display_data"
    }
   ],
   "source": [
    "plt.scatter(df['Latitude'], df['Wind Speed'])\n",
    "plt.title(\"Latitude vs Wind Speed\")\n",
    "plt.ylabel(\"Windspeed (meters/second)\")\n",
    "plt.xlabel(\"Latitude\")\n",
    "\n",
    "plt.savefig(\"Images/Latitude_vs_WindSpeed.png\")"
   ]
  },
  {
   "cell_type": "markdown",
   "metadata": {},
   "source": [
    "The graph of latitude vs windspeed shows several outliers, however again very limited correaltion between latitude and wind speed. "
   ]
  },
  {
   "cell_type": "markdown",
   "metadata": {},
   "source": [
    "## Linear Regression"
   ]
  },
  {
   "cell_type": "code",
   "execution_count": 68,
   "metadata": {},
   "outputs": [],
   "source": [
    "#Create separate dataframes for northern and southern hemispheres\n",
    "northern_hemisphere = df.loc[df['Latitude'] >= 0]\n",
    "southern_hemisphere = df.loc[df['Latitude'] < 0]\n",
    "\n"
   ]
  },
  {
   "cell_type": "markdown",
   "metadata": {},
   "source": [
    "####  Northern Hemisphere - Max Temp vs. Latitude Linear Regression"
   ]
  },
  {
   "cell_type": "code",
   "execution_count": 82,
   "metadata": {},
   "outputs": [
    {
     "data": {
      "image/png": "[encoded data removed]",
      "text/plain": [
       "<Figure size 432x288 with 1 Axes>"
      ]
     },
     "metadata": {
      "needs_background": "light"
     },
     "output_type": "display_data"
    }
   ],
   "source": [
    "#Calculate the linear regression model\n",
    "x_values = northern_hemisphere['Latitude']\n",
    "y_values = northern_hemisphere['Max Temp']\n",
    "\n",
    "(slope, intercept, rvalue, pvalue, stderr) = linregress(x_values, y_values)\n",
    "regress_values = x_values * slope + intercept\n",
    "line_eq = \"y = \" + str(round(slope,2)) + \"x + \" + str(round(intercept,2))\n",
    "\n",
    "#Plot the chart\n",
    "plt.scatter(northern_hemisphere['Latitude'], northern_hemisphere['Max Temp'])\n",
    "plt.title(\"Northern Latitudes vs Temperature ($^\\circ$ C)\")\n",
    "plt.ylabel(\"Max Temp\")\n",
    "plt.xlabel(\"Latitude\")\n",
    "plt.plot(x_values,regress_values,\"r-\")\n",
    "plt.annotate(line_eq,(10,-10),fontsize=15,color=\"red\")\n",
    "\n",
    "#Save the graph to 'Images' folder\n",
    "plt.savefig(\"Images/NorthernLatitudes_vs_Temperature.png\")"
   ]
  },
  {
   "cell_type": "markdown",
   "metadata": {},
   "source": [
    "####  Southern Hemisphere - Max Temp vs. Latitude Linear Regression"
   ]
  },
  {
   "cell_type": "code",
   "execution_count": 77,
   "metadata": {},
   "outputs": [
    {
     "data": {
      "image/png": "[encoded data removed]",
      "text/plain": [
       "<Figure size 432x288 with 1 Axes>"
      ]
     },
     "metadata": {
      "needs_background": "light"
     },
     "output_type": "display_data"
    }
   ],
   "source": [
    "x_values = southern_hemisphere['Latitude']\n",
    "y_values = southern_hemisphere['Max Temp']\n",
    "\n",
    "(slope, intercept, rvalue, pvalue, stderr) = linregress(x_values, y_values)\n",
    "regress_values = x_values * slope + intercept\n",
    "line_eq = \"y = \" + str(round(slope,2)) + \"x + \" + str(round(intercept,2))\n",
    "\n",
    "plt.scatter(southern_hemisphere['Latitude'], southern_hemisphere['Max Temp'])\n",
    "plt.title(\"Southern Latitudes vs Temperature ($^\\circ$ C)\")\n",
    "plt.ylabel(\"Max Temp\")\n",
    "plt.xlabel(\"Latitude\")\n",
    "plt.plot(x_values,regress_values,\"r-\")\n",
    "plt.annotate(line_eq,(-40,5),fontsize=15,color=\"red\")\n",
    "\n",
    "plt.savefig(\"Images/SouthernLatitudes_vs_Temperature.png\")"
   ]
  },
  {
   "cell_type": "markdown",
   "metadata": {},
   "source": [
    "The above graphs show that for this set of 518 random cities, there is a stronger relationship between latitude and temperature above the equator than below. "
   ]
  },
  {
   "cell_type": "markdown",
   "metadata": {},
   "source": [
    "####  Northern Hemisphere - Humidity (%) vs. Latitude Linear Regression"
   ]
  },
  {
   "cell_type": "code",
   "execution_count": 81,
   "metadata": {},
   "outputs": [
    {
     "data": {
      "image/png": "[encoded data removed]",
      "text/plain": [
       "<Figure size 432x288 with 1 Axes>"
      ]
     },
     "metadata": {
      "needs_background": "light"
     },
     "output_type": "display_data"
    }
   ],
   "source": [
    "x_values = northern_hemisphere['Latitude']\n",
    "y_values = northern_hemisphere['Humidity']\n",
    "\n",
    "(slope, intercept, rvalue, pvalue, stderr) = linregress(x_values, y_values)\n",
    "regress_values = x_values * slope + intercept\n",
    "line_eq = \"y = \" + str(round(slope,2)) + \"x + \" + str(round(intercept,2))\n",
    "\n",
    "plt.scatter(northern_hemisphere['Latitude'], northern_hemisphere['Humidity'])\n",
    "plt.title(\"Northern Latitudes vs Humidity (%)\")\n",
    "plt.ylabel(\"Humidity (%)\")\n",
    "plt.xlabel(\"Latitude\")\n",
    "plt.plot(x_values,regress_values,\"r-\")\n",
    "plt.annotate(line_eq,(45,6),fontsize=15,color=\"red\")\n",
    "\n",
    "plt.savefig(\"Images/NorthernLatitudes_vs_Humidity.png\")"
   ]
  },
  {
   "cell_type": "markdown",
   "metadata": {},
   "source": [
    "####  Southern Hemisphere - Humidity (%) vs. Latitude Linear Regression"
   ]
  },
  {
   "cell_type": "code",
   "execution_count": 78,
   "metadata": {},
   "outputs": [
    {
     "data": {
      "image/png": "[encoded data removed]",
      "text/plain": [
       "<Figure size 432x288 with 1 Axes>"
      ]
     },
     "metadata": {
      "needs_background": "light"
     },
     "output_type": "display_data"
    }
   ],
   "source": [
    "x_values = southern_hemisphere['Latitude']\n",
    "y_values = southern_hemisphere['Humidity']\n",
    "\n",
    "(slope, intercept, rvalue, pvalue, stderr) = linregress(x_values, y_values)\n",
    "regress_values = x_values * slope + intercept\n",
    "line_eq = \"y = \" + str(round(slope,2)) + \"x + \" + str(round(intercept,2))\n",
    "\n",
    "plt.scatter(southern_hemisphere['Latitude'], southern_hemisphere['Humidity'])\n",
    "plt.title(\"Southern Latitudes vs Humidity (%)\")\n",
    "plt.ylabel(\"Humidity (%)\")\n",
    "plt.xlabel(\"Latitude\")\n",
    "plt.plot(x_values,regress_values,\"r-\")\n",
    "plt.annotate(line_eq,(-55,30),fontsize=15,color=\"red\")\n",
    "\n",
    "plt.savefig(\"Images/SouthernLatitudes_vs_Humidity.png\")"
   ]
  },
  {
   "cell_type": "markdown",
   "metadata": {},
   "source": [
    "The above plots showing latitude vs humidity in the Northern and Southern Hemispheres show that humidity is generally increases with latitude. "
   ]
  },
  {
   "cell_type": "markdown",
   "metadata": {},
   "source": [
    "####  Northern Hemisphere - Cloudiness (%) vs. Latitude Linear Regression"
   ]
  },
  {
   "cell_type": "code",
   "execution_count": 73,
   "metadata": {},
   "outputs": [
    {
     "name": "stdout",
     "output_type": "stream",
     "text": [
      "y = 0.64x + 34.14\n"
     ]
    },
    {
     "data": {
      "image/png": "[encoded data removed]",
      "text/plain": [
       "<Figure size 432x288 with 1 Axes>"
      ]
     },
     "metadata": {
      "needs_background": "light"
     },
     "output_type": "display_data"
    }
   ],
   "source": [
    "x_values = northern_hemisphere['Latitude']\n",
    "y_values = northern_hemisphere['Cloudiness']\n",
    "\n",
    "(slope, intercept, rvalue, pvalue, stderr) = linregress(x_values, y_values)\n",
    "regress_values = x_values * slope + intercept\n",
    "line_eq = \"y = \" + str(round(slope,2)) + \"x + \" + str(round(intercept,2))\n",
    "print(line_eq)\n",
    "\n",
    "plt.scatter(northern_hemisphere['Latitude'], northern_hemisphere['Cloudiness'])\n",
    "plt.title(\"Northern Latitudes vs Cloudiness (%)\")\n",
    "plt.ylabel(\"Cloudiness (%)\")\n",
    "plt.xlabel(\"Latitude\")\n",
    "plt.plot(x_values,regress_values,\"r-\")\n",
    "plt.annotate(line_eq,(45,10),fontsize=15,color=\"red\")\n",
    "\n",
    "plt.savefig(\"Images/NorthernLatitudes_vs_Cloudiness.png\")"
   ]
  },
  {
   "cell_type": "markdown",
   "metadata": {},
   "source": [
    "####  Southern Hemisphere - Cloudiness (%) vs. Latitude Linear Regression"
   ]
  },
  {
   "cell_type": "code",
   "execution_count": 79,
   "metadata": {},
   "outputs": [
    {
     "data": {
      "image/png": "[encoded data removed]",
      "text/plain": [
       "<Figure size 432x288 with 1 Axes>"
      ]
     },
     "metadata": {
      "needs_background": "light"
     },
     "output_type": "display_data"
    }
   ],
   "source": [
    "x_values = southern_hemisphere['Latitude']\n",
    "y_values = southern_hemisphere['Cloudiness']\n",
    "\n",
    "(slope, intercept, rvalue, pvalue, stderr) = linregress(x_values, y_values)\n",
    "regress_values = x_values * slope + intercept\n",
    "line_eq = \"y = \" + str(round(slope,2)) + \"x + \" + str(round(intercept,2))\n",
    "\n",
    "plt.scatter(southern_hemisphere['Latitude'], southern_hemisphere['Cloudiness'])\n",
    "plt.title(\"Southern Latitudes vs Cloudiness (%)\")\n",
    "plt.ylabel(\"Cloudiness (%)\")\n",
    "plt.xlabel(\"Latitude\")\n",
    "plt.plot(x_values,regress_values,\"r-\")\n",
    "plt.annotate(line_eq,(-55,45),fontsize=15,color=\"red\")\n",
    "\n",
    "plt.savefig(\"Images/SouthernLatitudes_vs_Cloudiness.png\")"
   ]
  },
  {
   "cell_type": "markdown",
   "metadata": {},
   "source": [
    "The above plots showing latitude vs cloudiness in the Northern and Southern Hemispheres show that cloudiness is not related proximity to the equator. "
   ]
  },
  {
   "cell_type": "markdown",
   "metadata": {},
   "source": [
    "####  Northern Hemisphere - Wind Speed (mph) vs. Latitude Linear Regression"
   ]
  },
  {
   "cell_type": "code",
   "execution_count": 75,
   "metadata": {},
   "outputs": [
    {
     "data": {
      "image/png": "[encoded data removed]",
      "text/plain": [
       "<Figure size 432x288 with 1 Axes>"
      ]
     },
     "metadata": {
      "needs_background": "light"
     },
     "output_type": "display_data"
    }
   ],
   "source": [
    "x_values = northern_hemisphere['Latitude']\n",
    "y_values = northern_hemisphere['Wind Speed']\n",
    "\n",
    "(slope, intercept, rvalue, pvalue, stderr) = linregress(x_values, y_values)\n",
    "regress_values = x_values * slope + intercept\n",
    "line_eq = \"y = \" + str(round(slope,2)) + \"x + \" + str(round(intercept,2))\n",
    "\n",
    "plt.scatter(northern_hemisphere['Latitude'], northern_hemisphere['Wind Speed'])\n",
    "plt.title(\"Northern Latitudes vs Wind Speed (meters/second)\")\n",
    "plt.ylabel(\"Wind Speed (meters/second)\")\n",
    "plt.xlabel(\"Latitude\")\n",
    "plt.plot(x_values,regress_values,\"r-\")\n",
    "plt.annotate(line_eq,(45,10),fontsize=15,color=\"red\")\n",
    "\n",
    "plt.savefig(\"Images/NorthernLatitudes_vs_WindSpeed.png\")"
   ]
  },
  {
   "cell_type": "markdown",
   "metadata": {},
   "source": [
    "####  Southern Hemisphere - Wind Speed (mph) vs. Latitude Linear Regression"
   ]
  },
  {
   "cell_type": "code",
   "execution_count": 80,
   "metadata": {},
   "outputs": [
    {
     "data": {
      "image/png": "[encoded data removed]",
      "text/plain": [
       "<Figure size 432x288 with 1 Axes>"
      ]
     },
     "metadata": {
      "needs_background": "light"
     },
     "output_type": "display_data"
    }
   ],
   "source": [
    "x_values = southern_hemisphere['Latitude']\n",
    "y_values = southern_hemisphere['Wind Speed']\n",
    "\n",
    "(slope, intercept, rvalue, pvalue, stderr) = linregress(x_values, y_values)\n",
    "regress_values = x_values * slope + intercept\n",
    "line_eq = \"y = \" + str(round(slope,2)) + \"x + \" + str(round(intercept,2))\n",
    "\n",
    "plt.scatter(southern_hemisphere['Latitude'], southern_hemisphere['Wind Speed'])\n",
    "plt.title(\"Southern Latitudes vs Wind Speed (meters/second)\")\n",
    "plt.ylabel(\"Wind Speed (meters/second)\")\n",
    "plt.xlabel(\"Latitude\")\n",
    "plt.plot(x_values,regress_values,\"r-\")\n",
    "plt.annotate(line_eq,(-55,10),fontsize=15,color=\"red\")\n",
    "\n",
    "plt.savefig(\"Images/SouthernLatitudes_vs_WindSpeed.png\")"
   ]
  },
  {
   "cell_type": "markdown",
   "metadata": {},
   "source": []
  }
 ],
 "metadata": {
  "anaconda-cloud": {},
  "kernel_info": {
   "name": "python3"
  },
  "kernelspec": {
   "display_name": "Python 3",
   "language": "python",
   "name": "python3"
  },
  "language_info": {
   "codemirror_mode": {
    "name": "ipython",
    "version": 3
   },
   "file_extension": ".py",
   "mimetype": "text/x-python",
   "name": "python",
   "nbconvert_exporter": "python",
   "pygments_lexer": "ipython3",
   "version": "3.9.7"
  },
  "latex_envs": {
   "LaTeX_envs_menu_present": true,
   "autoclose": false,
   "autocomplete": true,
   "bibliofile": "biblio.bib",
   "cite_by": "apalike",
   "current_citInitial": 1,
   "eqLabelWithNumbers": true,
   "eqNumInitial": 1,
   "hotkeys": {
    "equation": "Ctrl-E",
    "itemize": "Ctrl-I"
   },
   "labels_anchors": false,
   "latex_user_defs": false,
   "report_style_numbering": false,
   "user_envs_cfg": false
  },
  "nteract": {
   "version": "0.12.3"
  }
 },
 "nbformat": 4,
 "nbformat_minor": 2
}

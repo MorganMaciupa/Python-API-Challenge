{
 "cells": [
  {
   "cell_type": "markdown",
   "metadata": {},
   "source": [
    "# WeatherPy\n",
    "----\n",
    "\n",
    "#### Note\n",
    "* Instructions have been included for each segment. You do not have to follow them exactly, but they are included to help you think through the steps."
   ]
  },
  {
   "cell_type": "code",
   "execution_count": null,
   "metadata": {
    "scrolled": true
   },
   "outputs": [],
   "source": [
    "#Dependencies\n",
    "import requests\n",
    "import json\n",
    "from api_keys import weather_api_key\n",
    "import numpy as np\n",
    "import pandas as pd\n",
    "from citipy import citipy\n",
    "import matplotlib.pyplot as plt\n",
    "import scipy.stats as st\n",
    "from scipy.stats import linregress\n",
    "\n",
    "url = \"http://api.openweathermap.org/data/2.5/weather?\"\n"
   ]
  },
  {
   "cell_type": "markdown",
   "metadata": {},
   "source": [
    "## Generate Cities List"
   ]
  },
  {
   "cell_type": "code",
   "execution_count": null,
   "metadata": {},
   "outputs": [],
   "source": [
    "#Create variables for the random selcetion of latitudes and longitudes with limits\n",
    "lat_range = (-90, 90)\n",
    "lng_range = (-180, 180)\n",
    "\n",
    "# Create lists for holding coordinates and city names\n",
    "lat_lngs = []\n",
    "cities = []\n",
    "\n",
    "# Create a set of 1200 random latitude and longitude combinations\n",
    "##NB: Many of these combinations will return the same city, so more are generated to end with \n",
    "## the minimum required 500 cities\n",
    "\n",
    "lats = np.random.uniform(low=-90.000, high=90.000, size=1200)\n",
    "lngs = np.random.uniform(low=-180.000, high=180.000, size=1200)\n",
    "\n",
    "#Zip the lats and longs together to form coordinate pairs\n",
    "lats_lngs = zip(lats, lngs)\n",
    "\n",
    "#Loop through the list, using citipy to locate the closest city to each coordinate set\n",
    "for lat_lng in lats_lngs:\n",
    "    city = citipy.nearest_city(lat_lng[0], lat_lng[1]).city_name\n",
    "    \n",
    "    cities.append(city)\n",
    "\n"
   ]
  },
  {
   "cell_type": "code",
   "execution_count": null,
   "metadata": {},
   "outputs": [],
   "source": [
    "#create a dataframe to hold city information\n",
    "df = pd.DataFrame({\"City Name\": cities,\n",
    "                   \"Latitude\": lats,\n",
    "                   \"Longitude\": lngs,\n",
    "                   \"Max Temp\": \"\",\n",
    "                   \"Humidity\": \"\",\n",
    "                   \"Cloudiness\": \"\",\n",
    "                   \"Wind Speed\": \"\",\n",
    "                   \"Country\": \"\"})\n",
    "\n",
    "#Remove any duplicate rows based on city name\n",
    "df = df.drop_duplicates(subset=[\"City Name\"], ignore_index=True)\n",
    "df"
   ]
  },
  {
   "cell_type": "markdown",
   "metadata": {},
   "source": [
    "### Perform API Calls\n",
    "* Perform a weather check on each city using a series of successive API calls.\n",
    "* Include a print log of each city as it'sbeing processed (with the city number and city name).\n"
   ]
  },
  {
   "cell_type": "code",
   "execution_count": null,
   "metadata": {
    "scrolled": true
   },
   "outputs": [],
   "source": [
    "# Use a for loop to build the query url from DataFrame of city names\n",
    "## Use try and except functions to skip over rows with no weather information available\n",
    "for index, row in df.iterrows():\n",
    "    \n",
    "    try:\n",
    "        city = row[\"City Name\"]\n",
    "    \n",
    "        query_url = f\"{url}appid={weather_api_key}&q={city}&units=metric\"\n",
    "    \n",
    "        response = requests.get(query_url)\n",
    "        cities_info = response.json()\n",
    "    \n",
    "        df.loc[index, \"Max Temp\"] = cities_info[\"main\"][\"temp_max\"]\n",
    "        df.loc[index, \"Humidity\"] = cities_info[\"main\"][\"humidity\"]\n",
    "        df.loc[index, \"Cloudiness\"] = cities_info[\"clouds\"][\"all\"]\n",
    "        df.loc[index, \"Wind Speed\"] = cities_info[\"wind\"][\"speed\"]\n",
    "        df.loc[index, \"Country\"] = cities_info[\"sys\"][\"country\"]\n",
    "    \n",
    "    except KeyError:\n",
    "        print(f\"No data available for {city}\")\n",
    "    \n",
    "    #Print log of city as it is checked\n",
    "    print(f\"Checking weather at {city}, city number {index + 1}\")\n"
   ]
  },
  {
   "cell_type": "markdown",
   "metadata": {},
   "source": [
    "### Convert Raw Data to DataFrame\n",
    "* Export the city data into a .csv.\n",
    "* Display the DataFrame"
   ]
  },
  {
   "cell_type": "code",
   "execution_count": null,
   "metadata": {},
   "outputs": [],
   "source": [
    "#Convert values from API to numerical values, in order to plot later\n",
    "df[\"Max Temp\"] = pd.to_numeric(df[\"Max Temp\"], errors='coerce')\n",
    "df[\"Humidity\"] = pd.to_numeric(df[\"Humidity\"], errors='coerce')\n",
    "df[\"Cloudiness\"] = pd.to_numeric(df[\"Cloudiness\"], errors='coerce')\n",
    "df[\"Wind Speed\"] = pd.to_numeric(df[\"Wind Speed\"], errors='coerce')\n",
    "\n",
    "df.to_csv('../Cities_Weather_Info.csv')\n",
    "\n",
    "df = df.dropna()\n",
    "df.head(20)\n"
   ]
  },
  {
   "cell_type": "markdown",
   "metadata": {},
   "source": [
    "## Inspect the data and remove the cities where the humidity > 100%.\n",
    "----\n",
    "Skip this step if there are no cities that have humidity > 100%. "
   ]
  },
  {
   "cell_type": "code",
   "execution_count": null,
   "metadata": {},
   "outputs": [],
   "source": [
    "#Check to see if there are any values of humidity over 100%\n",
    "humid = df.loc[df['Humidity'] > 100]\n",
    "humid\n",
    "\n",
    "#Repeated trials did not pull any data for this step"
   ]
  },
  {
   "cell_type": "markdown",
   "metadata": {},
   "source": [
    "## Plotting the Data\n",
    "* Use proper labeling of the plots using plot titles (including date of analysis) and axes labels.\n",
    "* Save the plotted figures as .pngs."
   ]
  },
  {
   "cell_type": "markdown",
   "metadata": {},
   "source": [
    "## Latitude vs. Temperature Plot"
   ]
  },
  {
   "cell_type": "code",
   "execution_count": null,
   "metadata": {
    "scrolled": true
   },
   "outputs": [],
   "source": [
    "plt.scatter(df['Latitude'], df['Max Temp'])\n",
    "plt.title(\"Latitude vs Temperature ($^\\circ$ C)\")\n",
    "plt.ylabel(\"Max Temp\")\n",
    "plt.xlabel(\"Latitude\")\n",
    "\n",
    "plt.savefig(\"Images/Latitude_vs_Temperature.png\")"
   ]
  },
  {
   "cell_type": "markdown",
   "metadata": {},
   "source": [
    "While there are some outliers, this graph shows that as latitudes approach the equator (that is, 0 degrees latitude) temperature increases. "
   ]
  },
  {
   "cell_type": "markdown",
   "metadata": {},
   "source": [
    "## Latitude vs. Humidity Plot"
   ]
  },
  {
   "cell_type": "code",
   "execution_count": null,
   "metadata": {},
   "outputs": [],
   "source": [
    "plt.scatter(df['Latitude'], df['Humidity'])\n",
    "plt.title(\"Latitude vs Humidity (%)\")\n",
    "plt.ylabel(\"Humidity (%)\")\n",
    "plt.xlabel(\"Latitude\")\n",
    "\n",
    "plt.savefig(\"Images/Latitude_vs_Humidity.png\")"
   ]
  },
  {
   "cell_type": "code",
   "execution_count": null,
   "metadata": {},
   "outputs": [],
   "source": [
    "#Correlation coefficient calculation\n",
    "correlation = st.pearsonr(df['Latitude'], df['Humidity'])\n",
    "print(f\"The correlation between tumor volume and mouse weight is {round(correlation[0],2)}\")"
   ]
  },
  {
   "cell_type": "markdown",
   "metadata": {},
   "source": [
    "The above graph of latitude vs humidity appears to show that there is no, or very little correlation between humidity and latitude. This can be further proven with the correlation coefficient calculated above."
   ]
  },
  {
   "cell_type": "markdown",
   "metadata": {},
   "source": [
    "## Latitude vs. Cloudiness Plot"
   ]
  },
  {
   "cell_type": "code",
   "execution_count": null,
   "metadata": {},
   "outputs": [],
   "source": [
    "plt.scatter(df['Latitude'], df['Cloudiness'])\n",
    "plt.title(\"Latitude vs Cloudiness (%)\")\n",
    "plt.ylabel(\"Cloudiness (%)\")\n",
    "plt.xlabel(\"Latitude\")\n",
    "\n",
    "plt.savefig(\"Images/Latitude_vs_Cloudiness.png\")"
   ]
  },
  {
   "cell_type": "markdown",
   "metadata": {},
   "source": [
    "The graph above shows the relationship between latitudes and cloud cover - of which there appears to be no correlation with cloud cover varying greatly across similar latitudes."
   ]
  },
  {
   "cell_type": "markdown",
   "metadata": {},
   "source": [
    "## Latitude vs. Wind Speed Plot"
   ]
  },
  {
   "cell_type": "code",
   "execution_count": null,
   "metadata": {},
   "outputs": [],
   "source": [
    "plt.scatter(df['Latitude'], df['Wind Speed'])\n",
    "plt.title(\"Latitude vs Wind Speed\")\n",
    "plt.ylabel(\"Windspeed (meters/second)\")\n",
    "plt.xlabel(\"Latitude\")\n",
    "\n",
    "plt.savefig(\"Images/Latitude_vs_WindSpeed.png\")"
   ]
  },
  {
   "cell_type": "markdown",
   "metadata": {},
   "source": [
    "The graph of latitude vs windspeed shows several outliers, however again very limited correaltion between latitude and wind speed. "
   ]
  },
  {
   "cell_type": "markdown",
   "metadata": {},
   "source": [
    "## Linear Regression"
   ]
  },
  {
   "cell_type": "code",
   "execution_count": null,
   "metadata": {},
   "outputs": [],
   "source": [
    "#Create separate dataframes for northern and southern hemispheres\n",
    "northern_hemisphere = df.loc[df['Latitude'] >= 0]\n",
    "southern_hemisphere = df.loc[df['Latitude'] < 0]\n"
   ]
  },
  {
   "cell_type": "markdown",
   "metadata": {},
   "source": [
    "####  Northern Hemisphere - Max Temp vs. Latitude Linear Regression"
   ]
  },
  {
   "cell_type": "code",
   "execution_count": null,
   "metadata": {},
   "outputs": [],
   "source": [
    "#Calculate the linear regression model\n",
    "x_values = northern_hemisphere['Latitude']\n",
    "y_values = northern_hemisphere['Max Temp']\n",
    "\n",
    "(slope, intercept, rvalue, pvalue, stderr) = linregress(x_values, y_values)\n",
    "regress_values = x_values * slope + intercept\n",
    "line_eq = \"y = \" + str(round(slope,2)) + \"x + \" + str(round(intercept,2))\n",
    "\n",
    "#Plot the chart\n",
    "plt.scatter(northern_hemisphere['Latitude'], northern_hemisphere['Max Temp'])\n",
    "plt.title(\"Northern Latitudes vs Temperature ($^\\circ$ C)\")\n",
    "plt.ylabel(\"Max Temp\")\n",
    "plt.xlabel(\"Latitude\")\n",
    "plt.plot(x_values,regress_values,\"r-\")\n",
    "plt.annotate(line_eq,(40,18),fontsize=15,color=\"red\")\n",
    "\n",
    "#Save the graph to 'Images' folder\n",
    "plt.savefig(\"Images/NorthernLatitudes_vs_Temperature.png\")"
   ]
  },
  {
   "cell_type": "markdown",
   "metadata": {},
   "source": [
    "####  Southern Hemisphere - Max Temp vs. Latitude Linear Regression"
   ]
  },
  {
   "cell_type": "code",
   "execution_count": null,
   "metadata": {},
   "outputs": [],
   "source": [
    "x_values = southern_hemisphere['Latitude']\n",
    "y_values = southern_hemisphere['Max Temp']\n",
    "\n",
    "(slope, intercept, rvalue, pvalue, stderr) = linregress(x_values, y_values)\n",
    "regress_values = x_values * slope + intercept\n",
    "line_eq = \"y = \" + str(round(slope,2)) + \"x + \" + str(round(intercept,2))\n",
    "\n",
    "plt.scatter(southern_hemisphere['Latitude'], southern_hemisphere['Max Temp'])\n",
    "plt.title(\"Southern Latitudes vs Temperature ($^\\circ$ C)\")\n",
    "plt.ylabel(\"Max Temp\")\n",
    "plt.xlabel(\"Latitude\")\n",
    "plt.plot(x_values,regress_values,\"r-\")\n",
    "plt.annotate(line_eq,(-60,11),fontsize=15,color=\"red\")\n",
    "\n",
    "plt.savefig(\"Images/SouthernLatitudes_vs_Temperature.png\")"
   ]
  },
  {
   "cell_type": "markdown",
   "metadata": {},
   "source": [
    "The above graphs show that for this set of 502 random cities, there is a stronger relationship between latitude and temperature above the equator than below. "
   ]
  },
  {
   "cell_type": "markdown",
   "metadata": {},
   "source": [
    "####  Northern Hemisphere - Humidity (%) vs. Latitude Linear Regression"
   ]
  },
  {
   "cell_type": "code",
   "execution_count": null,
   "metadata": {},
   "outputs": [],
   "source": [
    "x_values = northern_hemisphere['Latitude']\n",
    "y_values = northern_hemisphere['Humidity']\n",
    "\n",
    "(slope, intercept, rvalue, pvalue, stderr) = linregress(x_values, y_values)\n",
    "regress_values = x_values * slope + intercept\n",
    "line_eq = \"y = \" + str(round(slope,2)) + \"x + \" + str(round(intercept,2))\n",
    "\n",
    "plt.scatter(northern_hemisphere['Latitude'], northern_hemisphere['Humidity'])\n",
    "plt.title(\"Northern Latitudes vs Humidity (%)\")\n",
    "plt.ylabel(\"Humidity (%)\")\n",
    "plt.xlabel(\"Latitude\")\n",
    "plt.plot(x_values,regress_values,\"r-\")\n",
    "plt.annotate(line_eq,(45,10),fontsize=15,color=\"red\")\n",
    "\n",
    "plt.savefig(\"Images/NorthernLatitudes_vs_Humidity.png\")"
   ]
  },
  {
   "cell_type": "markdown",
   "metadata": {},
   "source": [
    "####  Southern Hemisphere - Humidity (%) vs. Latitude Linear Regression"
   ]
  },
  {
   "cell_type": "code",
   "execution_count": null,
   "metadata": {},
   "outputs": [],
   "source": [
    "x_values = southern_hemisphere['Latitude']\n",
    "y_values = southern_hemisphere['Humidity']\n",
    "\n",
    "(slope, intercept, rvalue, pvalue, stderr) = linregress(x_values, y_values)\n",
    "regress_values = x_values * slope + intercept\n",
    "line_eq = \"y = \" + str(round(slope,2)) + \"x + \" + str(round(intercept,2))\n",
    "\n",
    "plt.scatter(southern_hemisphere['Latitude'], southern_hemisphere['Humidity'])\n",
    "plt.title(\"Southern Latitudes vs Humidity (%)\")\n",
    "plt.ylabel(\"Humidity (%)\")\n",
    "plt.xlabel(\"Latitude\")\n",
    "plt.plot(x_values,regress_values,\"r-\")\n",
    "plt.annotate(line_eq,(-80,45),fontsize=15,color=\"red\")\n",
    "\n",
    "plt.savefig(\"Images/SouthernLatitudes_vs_Humidity.png\")"
   ]
  },
  {
   "cell_type": "markdown",
   "metadata": {},
   "source": [
    "The above plots showing latitude vs humidity in the Northern and Southern Hemispheres show that humidity is generally increases with latitude. "
   ]
  },
  {
   "cell_type": "markdown",
   "metadata": {},
   "source": [
    "####  Northern Hemisphere - Cloudiness (%) vs. Latitude Linear Regression"
   ]
  },
  {
   "cell_type": "code",
   "execution_count": null,
   "metadata": {},
   "outputs": [],
   "source": [
    "x_values = northern_hemisphere['Latitude']\n",
    "y_values = northern_hemisphere['Cloudiness']\n",
    "\n",
    "(slope, intercept, rvalue, pvalue, stderr) = linregress(x_values, y_values)\n",
    "regress_values = x_values * slope + intercept\n",
    "line_eq = \"y = \" + str(round(slope,2)) + \"x + \" + str(round(intercept,2))\n",
    "print(line_eq)\n",
    "\n",
    "plt.scatter(northern_hemisphere['Latitude'], northern_hemisphere['Cloudiness'])\n",
    "plt.title(\"Northern Latitudes vs Cloudiness (%)\")\n",
    "plt.ylabel(\"Cloudiness (%)\")\n",
    "plt.xlabel(\"Latitude\")\n",
    "plt.plot(x_values,regress_values,\"r-\")\n",
    "plt.annotate(line_eq,(45,10),fontsize=15,color=\"red\")\n",
    "\n",
    "plt.savefig(\"Images/NorthernLatitudes_vs_Cloudiness.png\")"
   ]
  },
  {
   "cell_type": "markdown",
   "metadata": {},
   "source": [
    "####  Southern Hemisphere - Cloudiness (%) vs. Latitude Linear Regression"
   ]
  },
  {
   "cell_type": "code",
   "execution_count": null,
   "metadata": {},
   "outputs": [],
   "source": [
    "x_values = southern_hemisphere['Latitude']\n",
    "y_values = southern_hemisphere['Cloudiness']\n",
    "\n",
    "(slope, intercept, rvalue, pvalue, stderr) = linregress(x_values, y_values)\n",
    "regress_values = x_values * slope + intercept\n",
    "line_eq = \"y = \" + str(round(slope,2)) + \"x + \" + str(round(intercept,2))\n",
    "\n",
    "plt.scatter(southern_hemisphere['Latitude'], southern_hemisphere['Cloudiness'])\n",
    "plt.title(\"Southern Latitudes vs Cloudiness (%)\")\n",
    "plt.ylabel(\"Cloudiness (%)\")\n",
    "plt.xlabel(\"Latitude\")\n",
    "plt.plot(x_values,regress_values,\"r-\")\n",
    "plt.annotate(line_eq,(-80,45),fontsize=15,color=\"red\")\n",
    "\n",
    "plt.savefig(\"Images/SouthernLatitudes_vs_Cloudiness.png\")"
   ]
  },
  {
   "cell_type": "markdown",
   "metadata": {},
   "source": [
    "The above plots showing latitude vs cloudiness in the Northern and Southern Hemispheres show that cloudiness is not related proximity to the equator. "
   ]
  },
  {
   "cell_type": "markdown",
   "metadata": {},
   "source": [
    "####  Northern Hemisphere - Wind Speed (mph) vs. Latitude Linear Regression"
   ]
  },
  {
   "cell_type": "code",
   "execution_count": null,
   "metadata": {},
   "outputs": [],
   "source": [
    "x_values = northern_hemisphere['Latitude']\n",
    "y_values = northern_hemisphere['Wind Speed']\n",
    "\n",
    "(slope, intercept, rvalue, pvalue, stderr) = linregress(x_values, y_values)\n",
    "regress_values = x_values * slope + intercept\n",
    "line_eq = \"y = \" + str(round(slope,2)) + \"x + \" + str(round(intercept,2))\n",
    "\n",
    "plt.scatter(northern_hemisphere['Latitude'], northern_hemisphere['Wind Speed'])\n",
    "plt.title(\"Northern Latitudes vs Wind Speed (meters/second)\")\n",
    "plt.ylabel(\"Wind Speed (meters/second)\")\n",
    "plt.xlabel(\"Latitude\")\n",
    "plt.plot(x_values,regress_values,\"r-\")\n",
    "plt.annotate(line_eq,(45,10),fontsize=15,color=\"red\")\n",
    "\n",
    "plt.savefig(\"Images/NorthernLatitudes_vs_WindSpeed.png\")"
   ]
  },
  {
   "cell_type": "markdown",
   "metadata": {},
   "source": [
    "####  Southern Hemisphere - Wind Speed (mph) vs. Latitude Linear Regression"
   ]
  },
  {
   "cell_type": "code",
   "execution_count": null,
   "metadata": {},
   "outputs": [],
   "source": [
    "x_values = southern_hemisphere['Latitude']\n",
    "y_values = southern_hemisphere['Wind Speed']\n",
    "\n",
    "(slope, intercept, rvalue, pvalue, stderr) = linregress(x_values, y_values)\n",
    "regress_values = x_values * slope + intercept\n",
    "line_eq = \"y = \" + str(round(slope,2)) + \"x + \" + str(round(intercept,2))\n",
    "\n",
    "plt.scatter(southern_hemisphere['Latitude'], southern_hemisphere['Wind Speed'])\n",
    "plt.title(\"Southern Latitudes vs Wind Speed (meters/second)\")\n",
    "plt.ylabel(\"Wind Speed (meters/second)\")\n",
    "plt.xlabel(\"Latitude\")\n",
    "plt.plot(x_values,regress_values,\"r-\")\n",
    "plt.annotate(line_eq,(-90,9),fontsize=15,color=\"red\")\n",
    "\n",
    "plt.savefig(\"Images/SouthernLatitudes_vs_WindSpeed.png\")"
   ]
  },
  {
   "cell_type": "markdown",
   "metadata": {},
   "source": []
  }
 ],
 "metadata": {
  "anaconda-cloud": {},
  "kernel_info": {
   "name": "python3"
  },
  "kernelspec": {
   "display_name": "Python 3",
   "language": "python",
   "name": "python3"
  },
  "language_info": {
   "codemirror_mode": {
    "name": "ipython",
    "version": 3
   },
   "file_extension": ".py",
   "mimetype": "text/x-python",
   "name": "python",
   "nbconvert_exporter": "python",
   "pygments_lexer": "ipython3",
   "version": "3.9.7"
  },
  "latex_envs": {
   "LaTeX_envs_menu_present": true,
   "autoclose": false,
   "autocomplete": true,
   "bibliofile": "biblio.bib",
   "cite_by": "apalike",
   "current_citInitial": 1,
   "eqLabelWithNumbers": true,
   "eqNumInitial": 1,
   "hotkeys": {
    "equation": "Ctrl-E",
    "itemize": "Ctrl-I"
   },
   "labels_anchors": false,
   "latex_user_defs": false,
   "report_style_numbering": false,
   "user_envs_cfg": false
  },
  "nteract": {
   "version": "0.12.3"
  }
 },
 "nbformat": 4,
 "nbformat_minor": 2
}
